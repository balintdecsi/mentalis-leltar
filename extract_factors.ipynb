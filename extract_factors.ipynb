{
 "cells": [
  {
   "cell_type": "code",
   "execution_count": 1,
   "metadata": {},
   "outputs": [],
   "source": [
    "import numpy as np\n",
    "import pandas as pd\n",
    "import matplotlib.pyplot as plt\n",
    "import re"
   ]
  },
  {
   "cell_type": "code",
   "execution_count": 2,
   "metadata": {},
   "outputs": [],
   "source": [
    "raw_df = pd.read_csv(\"Csocsó-mentális-leltár-válaszok.csv\", sep=\";\", index_col=1)"
   ]
  },
  {
   "cell_type": "code",
   "execution_count": 3,
   "metadata": {},
   "outputs": [],
   "source": [
    "if raw_df.shape[1] != 32:\n",
    "    raise Exception(\"Number of columns isn't 32, please check input file\")"
   ]
  },
  {
   "cell_type": "code",
   "execution_count": null,
   "metadata": {},
   "outputs": [],
   "source": [
    "wants_feedback = raw_df[pd.notnull(raw_df.index)]\n",
    "jeligek = list(wants_feedback.index)\n",
    "jeligek = [re.sub(r\" \", r\"_\", jelige) for jelige in jeligek]\n",
    "print(jeligek)"
   ]
  },
  {
   "cell_type": "code",
   "execution_count": 5,
   "metadata": {},
   "outputs": [],
   "source": [
    "wants_feedback_answers = wants_feedback.iloc[:,[1,2,3,4,5,6,7,8,9,12,13,14,15,16,19,20,21,22,23,24]]"
   ]
  },
  {
   "cell_type": "code",
   "execution_count": 6,
   "metadata": {},
   "outputs": [],
   "source": [
    "if wants_feedback_answers.shape[1] != 20:\n",
    "    raise Exception(\"NUmber of columns isn't 20, something went wrong\")"
   ]
  },
  {
   "cell_type": "code",
   "execution_count": 7,
   "metadata": {},
   "outputs": [],
   "source": [
    "wants_feedback_answers.to_csv(\"wants_feedback_answers.csv\", sep=\";\", header=False, index=False)"
   ]
  },
  {
   "cell_type": "code",
   "execution_count": 8,
   "metadata": {},
   "outputs": [],
   "source": [
    "with open(\"wants_feedback_answers.csv\", encoding=\"utf-8\") as f:\n",
    "    feedback = \"\"\n",
    "    for line in f:\n",
    "        feedback_line = \"\"\n",
    "        \n",
    "        line_split = re.split(r\";\", line.strip(\"\\n\"))\n",
    "        for answer in line_split:\n",
    "            if re.match(r\"\\d\", answer):\n",
    "                answer = re.sub(r\"(\\d)\\..+\", r\"\\1\", answer)\n",
    "            else:\n",
    "                answer = re.sub(r\".+\", r\"np.nan\", answer)\n",
    "            feedback_line += answer + \";\"\n",
    "        \n",
    "        feedback += feedback_line[:-1] + \"\\n\""
   ]
  },
  {
   "cell_type": "code",
   "execution_count": 9,
   "metadata": {},
   "outputs": [],
   "source": [
    "with open(\"feedback_data.csv\", \"w\", encoding=\"utf-8\") as f:\n",
    "    f.write(feedback)"
   ]
  },
  {
   "cell_type": "code",
   "execution_count": 10,
   "metadata": {},
   "outputs": [],
   "source": [
    "feedback_data = np.genfromtxt(\"feedback_data.csv\", delimiter=\";\")"
   ]
  },
  {
   "cell_type": "code",
   "execution_count": null,
   "metadata": {},
   "outputs": [],
   "source": [
    "x = [\"bla1\", \"bla2\", \"bla3\", \"bla4\", \"bla5\", \"bla6\"]\n",
    "y = np.empty(6)\n",
    "faktorok = [[0,1,16], [2,3,4,8,9,10,11,12], [3,5,6,7,10], [14,15], [1,12,13,15,17], [17,18,19]]\n",
    "\n",
    "fig, ax = plt.subplots()\n",
    "for ember in range(len(jeligek)):\n",
    "    for faktor in range(6):\n",
    "        y[faktor] = np.nanmean(feedback_data[ember,faktorok[faktor]])\n",
    "    \n",
    "    rects = ax.bar(x, y, width = 0.5, color='lightgreen')\n",
    "    ax.set(title=jeligek[ember], ylabel=\"válasz átlagok\")\n",
    "    ax.set_ylim(0, 6)\n",
    "    autolabel(rects)\n",
    "    plt.savefig(\"diagramok\\\\\" + jeligek[ember] + \".jpg\")\n",
    "    plt.cla()"
   ]
  },
  {
   "cell_type": "code",
   "execution_count": 12,
   "metadata": {},
   "outputs": [],
   "source": [
    "def autolabel(rects):\n",
    "    \"\"\"\n",
    "    Attach a text label above each bar displaying its height\n",
    "    \"\"\"\n",
    "    for rect in rects:\n",
    "        height = rect.get_height()\n",
    "        ax.text(rect.get_x() + rect.get_width()/2., 1.05*height, round(height, 1) , ha='center', va='bottom')"
   ]
  },
  {
   "cell_type": "code",
   "execution_count": null,
   "metadata": {},
   "outputs": [],
   "source": []
  }
 ],
 "metadata": {
  "kernelspec": {
   "display_name": "mentalis-leltar-3Ii9cAmC-py3.11",
   "language": "python",
   "name": "python3"
  },
  "language_info": {
   "codemirror_mode": {
    "name": "ipython",
    "version": 3
   },
   "file_extension": ".py",
   "mimetype": "text/x-python",
   "name": "python",
   "nbconvert_exporter": "python",
   "pygments_lexer": "ipython3",
   "version": "3.11.10"
  },
  "orig_nbformat": 2
 },
 "nbformat": 4,
 "nbformat_minor": 2
}
